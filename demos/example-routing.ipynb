{
 "cells": [
  {
   "cell_type": "markdown",
   "metadata": {},
   "source": [
    "# Quantum Circuit Routing Demo\n",
    "This notebook demonstrates quantum circuit routing using PyZX with different architectures."
   ]
  },
  {
   "cell_type": "code",
   "execution_count": null,
   "metadata": {
    "vscode": {
     "languageId": "python"
    }
   },
   "outputs": [],
   "source": [
    "import pyzx as zx\n",
    "from fractions import Fraction\n",
    "from pyzx.routing import (\n",
    "    create_architecture, route_phase_poly, RoutingMethod, ElimMode\n",
    ")\n",
    "import matplotlib.pyplot as plt\n",
    "import networkx as nx"
   ]
  },
  {
   "cell_type": "markdown",
   "metadata": {},
   "source": [
    "## Create a Simple Quantum Circuit\n",
    "\n",
    "This section creates a logical quantum circuit on 5 qubits with multiple CNOT gates and a mix of Clifford and non-Clifford ZPhase gates. The gate layout includes long-range interactions that are not natively supported by common hardware architectures, setting up a scenario where routing will need to insert additional operations.\n"
   ]
  },
  {
   "cell_type": "code",
   "execution_count": null,
   "metadata": {
    "vscode": {
     "languageId": "python"
    }
   },
   "outputs": [],
   "source": [
    "circ = zx.Circuit(5)\n",
    "\n",
    "# Add logical interactions that are non-local in line or IBM QX4\n",
    "circ.add_gate(\"CNOT\", 0, 4)\n",
    "circ.add_gate(\"CNOT\", 1, 3)\n",
    "circ.add_gate(\"CNOT\", 4, 2)\n",
    "circ.add_gate(\"CNOT\", 2, 0)\n",
    "circ.add_gate(\"CNOT\", 3, 1)\n",
    "circ.add_gate(\"CNOT\", 0, 1)\n",
    "\n",
    "# Add a mix of Clifford and T gates\n",
    "circ.add_gate(\"ZPhase\", 0, Fraction(1, 4))  # T gate\n",
    "circ.add_gate(\"ZPhase\", 2, Fraction(1, 2))  # Clifford\n",
    "circ.add_gate(\"ZPhase\", 3, Fraction(3, 4))  # non-Clifford\n",
    "circ.add_gate(\"ZPhase\", 4, Fraction(1, 8))  # non-Clifford\n",
    "\n",
    "# Visualize original\n",
    "zx.draw_matplotlib(circ, figsize=(10, 2), h_edge_draw='box')"
   ]
  },
  {
   "cell_type": "markdown",
   "metadata": {},
   "source": [
    "## Define and Visualise Architectures\n",
    "\n",
    "We visualise the logical (unrouted) quantum circuit using PyZX's drawing tools. This gives us a reference for how the circuit looks before being adapted to specific hardware constraints."
   ]
  },
  {
   "cell_type": "code",
   "execution_count": null,
   "metadata": {
    "vscode": {
     "languageId": "python"
    }
   },
   "outputs": [],
   "source": [
    "# Convert PyZX GraphS objects to NetworkX graphs\n",
    "def pyzx_to_nx(pyzx_graph):\n",
    "    g_nx = nx.Graph()\n",
    "    for v in pyzx_graph.vertices():\n",
    "        g_nx.add_node(v)\n",
    "    for edge in pyzx_graph.edges():\n",
    "        g_nx.add_edge(edge[0], edge[1])\n",
    "    return g_nx\n",
    "\n",
    "# Visualize Architectures\n",
    "plt.figure(figsize=(12, 4))\n",
    "\n",
    "plt.subplot(1, 2, 1)\n",
    "nx.draw(pyzx_to_nx(line_arch.graph), with_labels=True, node_color='lightblue', edge_color='gray')\n",
    "plt.title('Line Architecture')\n",
    "\n",
    "plt.subplot(1, 2, 2)\n",
    "nx.draw(pyzx_to_nx(ibm_arch.graph), with_labels=True, node_color='lightgreen', edge_color='gray')\n",
    "plt.title('IBM QX4 Architecture')\n",
    "\n",
    "plt.show()\n"
   ]
  },
  {
   "cell_type": "markdown",
   "metadata": {},
   "source": [
    "## Route the Circuit\n",
    "\n",
    "We define two quantum hardware architectures:\n",
    "- **Line Architecture**: A simple chain of qubits where only neighbors interact.\n",
    "- **IBM QX4**: A realistic 5-qubit architecture with limited connectivity.\n",
    "We visualise both to understand the connectivity limitations that will influence routing."
   ]
  },
  {
   "cell_type": "code",
   "execution_count": null,
   "metadata": {
    "vscode": {
     "languageId": "python"
    }
   },
   "outputs": [],
   "source": [
    "routed_circ_gray = route_phase_poly(circ, line_arch, method=RoutingMethod.GRAY, mode=ElimMode.STEINER_MODE)\n",
    "print('Routed Circuit (Gray):', routed_circ_gray.gates)\n",
    "\n",
    "routed_circ_combined = route_phase_poly(circ, ibm_arch, method=RoutingMethod.GRAY_MEIJER, mode=ElimMode.STEINER_MODE)\n",
    "print('Routed Circuit (Combined):', routed_circ_combined.gates)"
   ]
  },
  {
   "cell_type": "markdown",
   "metadata": {},
   "source": [
    "## Visualise Original and Routed Circuits\n",
    "\n",
    "We apply PyZX’s routing algorithms to map the logical circuit onto each architecture:\n",
    "- **Gray (Line)**: Routes the circuit to a linear qubit layout.\n",
    "- **Gray+Meijer (IBM QX4)**: Routes using additional heuristics for the more restrictive IBM QX4 layout.\n",
    "\n",
    "Routing inserts extra gates to satisfy hardware connectivity constraints."
   ]
  },
  {
   "cell_type": "code",
   "execution_count": null,
   "metadata": {
    "vscode": {
     "languageId": "python"
    }
   },
   "outputs": [],
   "source": [
    "def mat22partition(m: Mat2) -> List[Parity]:\n",
    "    \"\"\"\n",
    "    Convert a list of Parity objects into a Mat2 binary matrix.\n",
    "\n",
    "    :param m: List of Parity objects, each representing a binary row\n",
    "    :return: Mat2 binary matrix constructed from the partition\n",
    "    \"\"\"\n",
    "    return [Parity(p) for p in m.data]"
   ]
  },
  {
   "cell_type": "code",
   "execution_count": null,
   "metadata": {
    "vscode": {
     "languageId": "python"
    }
   },
   "outputs": [],
   "source": [
    "print(\"\\nRouted Circuit (Gray) on Line:\")\n",
    "zx.draw_matplotlib(routed_circ_gray, figsize=(10, 2), h_edge_draw='box')"
   ]
  },
  {
   "cell_type": "code",
   "execution_count": null,
   "metadata": {
    "vscode": {
     "languageId": "python"
    }
   },
   "outputs": [],
   "source": [
    "print(\"\\nRouted Circuit (Combined) on IBM QX4:\")\n",
    "zx.draw_matplotlib(routed_circ_combined, figsize=(10, 2), h_edge_draw='box')"
   ]
  },
  {
   "cell_type": "markdown",
   "metadata": {},
   "source": [
    "## Benchmark Circuit Statistics\n",
    "\n",
    "This section outputs a summary of gate counts, CNOT counts, and T-counts for each version of the circuit. It highlights the trade-offs in complexity introduced by routing.\n"
   ]
  },
  {
   "cell_type": "code",
   "execution_count": null,
   "metadata": {
    "vscode": {
     "languageId": "python"
    }
   },
   "outputs": [],
   "source": [
    "print('Original Circuit Stats:', circ.stats())\n",
    "print('Routed Circuit (Gray) Stats:', routed_circ_gray.stats())\n",
    "print('Routed Circuit (Combined) Stats:', routed_circ_combined.stats())"
   ]
  }
 ],
 "metadata": {
  "language_info": {
   "name": "csharp"
  }
 },
 "nbformat": 4,
 "nbformat_minor": 2
}
